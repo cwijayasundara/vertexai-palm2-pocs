{
 "cells": [
  {
   "cell_type": "code",
   "execution_count": 1,
   "metadata": {
    "id": "lKPFFoGbD4me"
   },
   "outputs": [],
   "source": [
    "! pip install -qU google-cloud-aiplatform langchain chromadb pypdf transformers gradio"
   ]
  },
  {
   "cell_type": "markdown",
   "metadata": {
    "id": "tU2EN8o2FizG"
   },
   "source": [
    "Restart the Runtime for Vertex AI. The below code crashes the runtime so restart manually!"
   ]
  },
  {
   "cell_type": "code",
   "execution_count": 1,
   "metadata": {
    "id": "SUisWP1dFQ1S"
   },
   "outputs": [],
   "source": [
    "from google.cloud import aiplatform\n",
    "aiplatform.init(\n",
    "    # your Google Cloud Project ID or number\n",
    "    # environment default used is not set\n",
    "    project='ibm-keras',\n",
    "    # the Vertex AI region you will use\n",
    "    # defaults to us-central1\n",
    "    location='us-central1',\n",
    ")"
   ]
  },
  {
   "cell_type": "markdown",
   "metadata": {
    "id": "MENpMRQbGF1I"
   },
   "source": [
    "Import the libs"
   ]
  },
  {
   "cell_type": "code",
   "execution_count": 2,
   "metadata": {
    "id": "qWAyiwuEGGcZ"
   },
   "outputs": [],
   "source": [
    "import gradio as gr\n",
    "import vertexai\n",
    "from google.cloud import aiplatform\n",
    "from langchain.llms import VertexAI\n",
    "from langchain.document_loaders import PyPDFLoader\n",
    "from langchain.chains.summarize import load_summarize_chain\n",
    "from langchain.text_splitter import RecursiveCharacterTextSplitter"
   ]
  },
  {
   "cell_type": "code",
   "execution_count": 3,
   "metadata": {
    "id": "-gO0WxbYGYqv"
   },
   "outputs": [],
   "source": [
    "PROJECT_ID = \"ibm-keras\"\n",
    "REGION = \"us-central1\"\n",
    "import vertexai\n",
    "vertexai.init(project=PROJECT_ID, location=REGION)\n",
    "\n",
    "llm = VertexAI(\n",
    "    model_name=\"text-bison@001\",\n",
    "    max_output_tokens=256,\n",
    "    temperature=0.1,\n",
    "    top_p=0.8,\n",
    "    top_k=40,\n",
    "    verbose=True,\n",
    ")"
   ]
  },
  {
   "cell_type": "code",
   "execution_count": 4,
   "metadata": {
    "id": "mGekWKUOJO6f"
   },
   "outputs": [],
   "source": [
    "def summerise_large_pdf(fileUrl):\n",
    "  url = fileUrl\n",
    "  loader = PyPDFLoader(url)\n",
    "  documents = loader.load()\n",
    "  text_splitter = RecursiveCharacterTextSplitter(chunk_size=1500, chunk_overlap=50)\n",
    "  texts = text_splitter.split_documents(documents)\n",
    "  chain = load_summarize_chain(llm, chain_type=\"map_reduce\", verbose=True)\n",
    "  return chain.run(texts)"
   ]
  },
  {
   "cell_type": "code",
   "execution_count": null,
   "metadata": {
    "id": "1HvXJ8xjIxvr"
   },
   "outputs": [],
   "source": [
    "def summerise_doc(file_url):\n",
    "    return summerise_large_pdf(file_url)\n",
    "\n",
    "sec_file_summeriser_app = gr.Interface(\n",
    "    fn=summerise_doc,\n",
    "    inputs=gr.Textbox(lines=3, placeholder=\"Please Enter the URL of the SEC Filling Here !\"),\n",
    "    outputs=\"text\",\n",
    ")\n",
    "sec_file_summeriser_app.launch(share=True,debug=True)"
   ]
  },
  {
   "cell_type": "code",
   "execution_count": null,
   "metadata": {},
   "outputs": [],
   "source": []
  }
 ],
 "metadata": {
  "colab": {
   "provenance": []
  },
  "environment": {
   "kernel": "python3",
   "name": "common-cpu.m109",
   "type": "gcloud",
   "uri": "gcr.io/deeplearning-platform-release/base-cpu:m109"
  },
  "kernelspec": {
   "display_name": "Python 3",
   "language": "python",
   "name": "python3"
  },
  "language_info": {
   "codemirror_mode": {
    "name": "ipython",
    "version": 3
   },
   "file_extension": ".py",
   "mimetype": "text/x-python",
   "name": "python",
   "nbconvert_exporter": "python",
   "pygments_lexer": "ipython3",
   "version": "3.10.11"
  }
 },
 "nbformat": 4,
 "nbformat_minor": 4
}
