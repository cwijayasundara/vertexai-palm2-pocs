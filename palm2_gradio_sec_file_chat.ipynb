{
 "cells": [
  {
   "cell_type": "code",
   "execution_count": 1,
   "metadata": {
    "id": "yDRJsEKmTI7g"
   },
   "outputs": [],
   "source": [
    "! pip install -qU google-cloud-aiplatform langchain chromadb pypdf transformers gradio"
   ]
  },
  {
   "cell_type": "code",
   "execution_count": 1,
   "metadata": {},
   "outputs": [],
   "source": [
    "from google.cloud import aiplatform\n",
    "aiplatform.init(\n",
    "    # your Google Cloud Project ID or number\n",
    "    # environment default used is not set\n",
    "    project='ibm-keras',\n",
    "    # the Vertex AI region you will use\n",
    "    # defaults to us-central1\n",
    "    location='us-central1',\n",
    ")"
   ]
  },
  {
   "cell_type": "code",
   "execution_count": 2,
   "metadata": {
    "id": "YLZ0zgbLTxmn"
   },
   "outputs": [],
   "source": [
    "import gradio as gr\n",
    "import vertexai\n",
    "from google.cloud import aiplatform\n",
    "from langchain.llms import VertexAI\n",
    "from langchain.document_loaders import PyPDFLoader\n",
    "from langchain.chains.summarize import load_summarize_chain\n",
    "from langchain.text_splitter import RecursiveCharacterTextSplitter\n",
    "from langchain.embeddings import VertexAIEmbeddings\n",
    "from langchain.vectorstores import Chroma\n",
    "from langchain.chains import RetrievalQA"
   ]
  },
  {
   "cell_type": "code",
   "execution_count": 3,
   "metadata": {
    "id": "R12KGabfT7TE"
   },
   "outputs": [],
   "source": [
    "PROJECT_ID = \"ibm-keras\"\n",
    "REGION = \"us-central1\"\n",
    "import vertexai\n",
    "vertexai.init(project=PROJECT_ID, location=REGION)\n",
    "\n",
    "llm = VertexAI(\n",
    "    model_name=\"text-bison@001\",\n",
    "    max_output_tokens=256,\n",
    "    temperature=0.1,\n",
    "    top_p=0.8,\n",
    "    top_k=40,\n",
    "    verbose=True,\n",
    ")\n",
    "# Embedding\n",
    "embeddings = VertexAIEmbeddings(model_name=\"textembedding-gecko@001\")"
   ]
  },
  {
   "cell_type": "code",
   "execution_count": 4,
   "metadata": {
    "id": "k_HYXIQlUc-M"
   },
   "outputs": [],
   "source": [
    "def upload_sec_file_to_vector_db(fileUrl, query):\n",
    "  url = fileUrl\n",
    "  loader = PyPDFLoader(url)\n",
    "  documents = loader.load()\n",
    "  text_splitter = RecursiveCharacterTextSplitter(chunk_size=1500, chunk_overlap=0)\n",
    "  docs = text_splitter.split_documents(documents)\n",
    "  print(f\"# of documents = {len(docs)}\")\n",
    "  db = Chroma.from_documents(docs, embeddings)\n",
    "  retriever = db.as_retriever(search_type=\"similarity\", search_kwargs={\"k\": 2})\n",
    "  # Uses Vertex PaLM Text API for LLM to synthesize results from the search index.\n",
    "  qa = RetrievalQA.from_chain_type(\n",
    "      llm=llm, chain_type=\"stuff\", retriever=retriever, return_source_documents=True\n",
    "  )\n",
    "  result = qa({\"query\": query})\n",
    "  return result"
   ]
  },
  {
   "cell_type": "code",
   "execution_count": null,
   "metadata": {
    "id": "FMWLBSwjUJwo"
   },
   "outputs": [],
   "source": [
    "def upload_and_chat_pdf(file_url, query):\n",
    "    return upload_sec_file_to_vector_db(file_url, query)\n",
    "\n",
    "sec_file_chat_app = gr.Interface(\n",
    "    fn=upload_and_chat_pdf,\n",
    "    inputs=[gr.Textbox(lines=3, placeholder=\"Please Enter the URL of the SEC Filling Here !\"),\n",
    "            gr.Textbox(lines=1, placeholder=\"Please Enter Your SEC File Query Here !\")],\n",
    "    outputs=\"text\",\n",
    ")\n",
    "sec_file_chat_app.launch(share=True,debug=True)"
   ]
  },
  {
   "cell_type": "code",
   "execution_count": null,
   "metadata": {},
   "outputs": [],
   "source": []
  }
 ],
 "metadata": {
  "colab": {
   "provenance": []
  },
  "environment": {
   "kernel": "python3",
   "name": "common-cpu.m109",
   "type": "gcloud",
   "uri": "gcr.io/deeplearning-platform-release/base-cpu:m109"
  },
  "kernelspec": {
   "display_name": "Python 3",
   "language": "python",
   "name": "python3"
  },
  "language_info": {
   "codemirror_mode": {
    "name": "ipython",
    "version": 3
   },
   "file_extension": ".py",
   "mimetype": "text/x-python",
   "name": "python",
   "nbconvert_exporter": "python",
   "pygments_lexer": "ipython3",
   "version": "3.10.11"
  }
 },
 "nbformat": 4,
 "nbformat_minor": 4
}
